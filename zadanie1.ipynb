{
 "cells": [
  {
   "cell_type": "code",
   "execution_count": 24,
   "metadata": {
    "collapsed": true
   },
   "outputs": [],
   "source": [
    "import pandas as pd"
   ]
  },
  {
   "cell_type": "code",
   "execution_count": 25,
   "metadata": {},
   "outputs": [
    {
     "name": "stdout",
     "output_type": "stream",
     "text": [
      "Liczba osób urodzonych po 1999-12-31 wynośi 27\n"
     ]
    }
   ],
   "source": [
    "df=pd.read_csv('test.csv')\n",
    "Data_Urodzenia='1999-12-31'\n",
    "Liczba_Osob=len(df[pd.to_datetime(df['data_urodzenia'])>Data_Urodzenia])\n",
    "print('Liczba osób urodzonych po {} wynośi {}'.format(Data_Urodzenia,Liczba_Osob))"
   ]
  },
  {
   "cell_type": "code",
   "execution_count": 26,
   "metadata": {},
   "outputs": [
    {
     "name": "stdout",
     "output_type": "stream",
     "text": [
      "Liczba osób urodzonych po 1999-12-31 wynośi 27\n"
     ]
    }
   ],
   "source": [
    "df=pd.read_csv('test.csv',parse_dates=['data_urodzenia'])\n",
    "Data_Urodzenia='1999-12-31'\n",
    "Liczba_Osob=len(df[df['data_urodzenia']>Data_Urodzenia])\n",
    "print('Liczba osób urodzonych po {} wynośi {}'.format(Data_Urodzenia,Liczba_Osob))"
   ]
  },
  {
   "cell_type": "code",
   "execution_count": 27,
   "metadata": {
    "scrolled": false
   },
   "outputs": [
    {
     "name": "stdout",
     "output_type": "stream",
     "text": [
      "Jadwiga\n",
      "Liliana\n",
      "Katarzyna\n",
      "Barbara\n",
      "Kalina\n",
      "Jolanta\n",
      "Pelagia\n",
      "Ewa\n",
      "Krystyna\n",
      "Elwira\n"
     ]
    }
   ],
   "source": [
    "imiona=[]\n",
    "for imie in df.imie:\n",
    "    if imie.endswith('a'):\n",
    "        if imie not in imiona:\n",
    "            imiona.append(imie)\n",
    "            print(imie)"
   ]
  }
 ],
 "metadata": {
  "kernelspec": {
   "display_name": "Python 3",
   "language": "python",
   "name": "python3"
  },
  "language_info": {
   "codemirror_mode": {
    "name": "ipython",
    "version": 3
   },
   "file_extension": ".py",
   "mimetype": "text/x-python",
   "name": "python",
   "nbconvert_exporter": "python",
   "pygments_lexer": "ipython3",
   "version": "3.6.3"
  }
 },
 "nbformat": 4,
 "nbformat_minor": 2
}
